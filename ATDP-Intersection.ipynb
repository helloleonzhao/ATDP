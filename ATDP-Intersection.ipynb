{
 "cells": [
  {
   "cell_type": "code",
   "execution_count": 87,
   "metadata": {},
   "outputs": [],
   "source": [
    "a1 = [1, 2, 3]\n",
    "a2 = [4, 5, 6]\n",
    "b1 = []\n",
    "b2 = [1, 2, 3, 4]\n",
    "c1 = [1, 2, 3, 4]\n",
    "c2 = [2, 4, 6, 8] \n",
    "d1 = [1, 2, 2, 3]\n",
    "d2 = [1, 2, 4]"
   ]
  },
  {
   "cell_type": "code",
   "execution_count": 88,
   "metadata": {},
   "outputs": [
    {
     "name": "stdout",
     "output_type": "stream",
     "text": [
      "Union : {1, 2, 3, 4, 5, 6}\n",
      "Intersection : set()\n",
      "Difference : {1, 3}\n",
      "Symmetric difference : {3, 4}\n"
     ]
    }
   ],
   "source": [
    "a1 = set(a1)\n",
    "a2 = set(a2)\n",
    "b1 = set(b1)\n",
    "b2 = set(b2)\n",
    "c1 = set(c1)\n",
    "c2 = set(c2)\n",
    "d1 = set(d1)\n",
    "d2 = set(d2)\n",
    "# union\n",
    "print(\"Union :\", a1 | a2)\n",
    " \n",
    "# intersection\n",
    "print(\"Intersection :\", b1 & b2)\n",
    " \n",
    "# difference\n",
    "print(\"Difference :\", c1 - c2)\n",
    " \n",
    "# symmetric difference\n",
    "print(\"Symmetric difference :\", d1 ^ d2)"
   ]
  },
  {
   "cell_type": "code",
   "execution_count": 142,
   "metadata": {},
   "outputs": [],
   "source": [
    "a1 = [1, 2, 3]\n",
    "a2 = [4, 5, 6]\n",
    "b1 = []\n",
    "b2 = [1, 2, 3, 4]\n",
    "c1 = [1, 2, 3, 4]\n",
    "c2 = [2, 4, 6, 8] \n",
    "d1 = [1, 2, 2, 3]\n",
    "d2 = [1, 2, 4]\n",
    "\n",
    "def intersection(l1, l2):\n",
    "    intersection_list = []\n",
    "    for e1 in l1:\n",
    "        for e2 in l2:\n",
    "            if e1 == e2:\n",
    "                same_e = e1\n",
    "                intersection_list.append(same_e)\n",
    "    return(intersection_list)\n",
    "\n",
    "print(intersection(a1, a2))\n",
    "print(intersection(b1, b2))\n",
    "print(intersection(c1, c2))\n",
    "print(intersection(d1, d2))\n",
    "\n",
    "f1 = [1, 3, 5, -1, 7, 5, 3, 1]\n",
    "f2 = [2, 2, 5, 8, 1, 7, 3, 0]\n",
    "\n",
    "\n",
    "intersection_list = intersection(f1, f2)\n",
    "print(intersection_list)\n",
    "\n",
    "no_dup_list = []\n",
    "for item in intersection_list:\n",
    "    if item not in no_dup_list:\n",
    "        no_dup_list.append(item)\n",
    "print(no_dup_list)"
   ]
  },
  {
   "cell_type": "code",
   "execution_count": null,
   "metadata": {},
   "outputs": [],
   "source": []
  }
 ],
 "metadata": {
  "kernelspec": {
   "display_name": "Python 3",
   "language": "python",
   "name": "python3"
  },
  "language_info": {
   "codemirror_mode": {
    "name": "ipython",
    "version": 3
   },
   "file_extension": ".py",
   "mimetype": "text/x-python",
   "name": "python",
   "nbconvert_exporter": "python",
   "pygments_lexer": "ipython3",
   "version": "3.6.5"
  }
 },
 "nbformat": 4,
 "nbformat_minor": 2
}
