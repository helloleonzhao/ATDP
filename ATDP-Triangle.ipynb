{
 "cells": [
  {
   "cell_type": "code",
   "execution_count": 68,
   "metadata": {},
   "outputs": [],
   "source": [
    "# create a single row\n",
    "def create_row(last_ending, row):\n",
    "    list_of_row = []\n",
    "    for j in range(1, row+1):\n",
    "        list_of_row.append(last_ending + j)\n",
    "    #print(list_of_row)  \n",
    "    return(list_of_row)    "
   ]
  },
  {
   "cell_type": "code",
   "execution_count": 69,
   "metadata": {},
   "outputs": [],
   "source": [
    "# create the entire triangle\n",
    "def create_triangle(num):\n",
    "    list_of_triangle = []\n",
    "    list_of_output = []\n",
    "    last_ending = 0\n",
    "    for row in range(1, num+1):\n",
    "        list_of_row = create_row(last_ending, row)\n",
    "        last_ending = list_of_row[-1]\n",
    "        list_of_output.append(last_ending)\n",
    "    return(list_of_output)"
   ]
  },
  {
   "cell_type": "code",
   "execution_count": 71,
   "metadata": {},
   "outputs": [
    {
     "name": "stdout",
     "output_type": "stream",
     "text": [
      "Please input the level of triangle: 13\n",
      "[1, 3, 6, 10, 15, 21, 28, 36, 45, 55, 66, 78, 91]\n"
     ]
    }
   ],
   "source": [
    "# main.py\n",
    "level = int(input(\"Please input the level of triangle: \"))\n",
    "list_of_output = create_triangle(level)\n",
    "print(list_of_output)"
   ]
  },
  {
   "cell_type": "code",
   "execution_count": 77,
   "metadata": {},
   "outputs": [
    {
     "name": "stdout",
     "output_type": "stream",
     "text": [
      "0\n"
     ]
    }
   ],
   "source": [
    "counter = 0\n",
    "month =\"Jan\"\n",
    "month_list = [\"Jan\", \"Feb\", \"Mar\"]\n",
    "while month != month_list[counter]:\n",
    "    counter = counter + 1\n",
    "    \n",
    "print(counter)"
   ]
  },
  {
   "cell_type": "code",
   "execution_count": 6,
   "metadata": {},
   "outputs": [
    {
     "name": "stdout",
     "output_type": "stream",
     "text": [
      "14 10\n"
     ]
    }
   ],
   "source": [
    "a = 14\n",
    "b = 10\n",
    "print('%02d %2d' % (a,b))"
   ]
  },
  {
   "cell_type": "code",
   "execution_count": 10,
   "metadata": {},
   "outputs": [
    {
     "name": "stdout",
     "output_type": "stream",
     "text": [
      "a\n",
      "b\n",
      "c\n",
      "d\n",
      "e\n",
      "f\n"
     ]
    }
   ],
   "source": [
    "s = 'abcdef'\n",
    "c = 0\n",
    "while c != len(s):\n",
    "    print(s[c])\n",
    "    c +=1 "
   ]
  },
  {
   "cell_type": "code",
   "execution_count": null,
   "metadata": {},
   "outputs": [],
   "source": []
  }
 ],
 "metadata": {
  "kernelspec": {
   "display_name": "Python 3",
   "language": "python",
   "name": "python3"
  },
  "language_info": {
   "codemirror_mode": {
    "name": "ipython",
    "version": 3
   },
   "file_extension": ".py",
   "mimetype": "text/x-python",
   "name": "python",
   "nbconvert_exporter": "python",
   "pygments_lexer": "ipython3",
   "version": "3.6.5"
  }
 },
 "nbformat": 4,
 "nbformat_minor": 2
}
