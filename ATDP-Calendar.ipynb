{
 "cells": [
  {
   "cell_type": "code",
   "execution_count": 58,
   "metadata": {},
   "outputs": [
    {
     "name": "stdout",
     "output_type": "stream",
     "text": [
      "Enter a month: June\n",
      ">>>>>> June <<<<<<\n",
      "Su Mo Tu We Th Fr Sa\n",
      ".. .. .. .. .. 01 02 \n",
      "03 04 05 06 07 08 09 \n",
      "10 11 12 13 14 15 16 \n",
      "17 18 19 20 21 22 23 \n",
      "24 25 26 27 28 29 30 \n"
     ]
    }
   ],
   "source": [
    "#The point for one loop is to calculate the remainder from the last month and add it on to the last month's first day.\n",
    "#Then, you add the remainder to to the first day of the last month to get the first day of the present month.\n",
    "month = input(\"Enter a month: \")\n",
    "if month == \"April\" or month == \"June\" or month == \"August\" or month == \"September\" or month == \"November\":\n",
    "    month_length = 30\n",
    "elif month == \"January\" or month == \"March\" or month == \"May\" or month == \"July\" or month == \"October\" or month == \"December\":\n",
    "    month_length = 31\n",
    "else:\n",
    "    month_length = 28\n",
    "\n",
    "first_date = [\"Monday\"] #first date is list of first days of the month, starting with Jan 1.\n",
    "day_list = [\"Sunday\", \"Monday\", \"Tuesday\", \"Wednesday\", \"Thursday\", \"Friday\", \"Saturday\", \n",
    "                \"Sunday\", \"Monday\", \"Tuesday\", \"Wednesday\", \"Thursday\", \"Friday\", \"Saturday\", \n",
    "                \"Sunday\", \"Monday\", \"Tuesday\", \"Wednesday\", \"Thursday\", \"Friday\", \"Saturday\", \n",
    "                \"Sunday\", \"Monday\", \"Tuesday\", \"Wednesday\", \"Thursday\", \"Friday\", \"Saturday\", \n",
    "                \"Sunday\", \"Monday\", \"Tuesday\", \"Wednesday\", \"Thursday\", \"Friday\", \"Saturday\",\n",
    "                \"Sunday\", \"Monday\", \"Tuesday\", \"Wednesday\", \"Thursday\", \"Friday\", \"Saturday\"]\n",
    "month_list = [\"January\", \"February\", \"March\", \"April\", \"May\", \"June\", \"July\", \"August\", \"September\", \"October\", \"November\", \"December\"]\n",
    "first_day_counter = 0\n",
    "\n",
    "for x in month_list[1:]:\n",
    "    if x == \"February\" or x == \"April\" or x == \"June\" or x == \"August\" or x == \"September\" or x == \"November\":\n",
    "        remainder = 31 % 7\n",
    "    elif x == \"May\" or x == \"July\" or x == \"October\" or x == \"December\":\n",
    "        remainder = 30 % 7 \n",
    "    else:\n",
    "        remainder = 28 % 7\n",
    "        \n",
    "    for i in range(7):\n",
    "        if first_date[first_day_counter] == day_list[i]:\n",
    "            second_date = day_list[i + remainder]\n",
    "            first_date.append(second_date)\n",
    "    first_day_counter = first_day_counter + 1\n",
    "#print(\"The First Date of each month are:\", first_date)\n",
    "\n",
    "month_counter = 0 \n",
    "while month != month_list[month_counter]:\n",
    "    month_counter = month_counter + 1\n",
    "day_one = first_date[month_counter]\n",
    "\n",
    "print('>>>>>> %s <<<<<<' % (month))\n",
    "print('Su Mo Tu We Th Fr Sa')\n",
    "\n",
    "day_counter = 0\n",
    "week_list = str()\n",
    "while day_one != day_list[day_counter]:\n",
    "    # print('.. ')\n",
    "    week_list = week_list + '.. '\n",
    "    day_counter = day_counter + 1\n",
    "for y in range(1, month_length+1):\n",
    "    # print('%02d' % y)\n",
    "    if y < 10:\n",
    "        week_list = week_list + '0' + str(y) + ' '\n",
    "    else:\n",
    "        week_list = week_list + str(y) + ' '\n",
    "counter = 0\n",
    "while counter != len(week_list):\n",
    "    if counter == 20 or counter == 41 or counter == 62 or counter == 83 or counter == 104:\n",
    "        print(week_list[counter])\n",
    "    else:\n",
    "        print(week_list[counter], end='')    \n",
    "    counter +=1 "
   ]
  },
  {
   "cell_type": "code",
   "execution_count": null,
   "metadata": {},
   "outputs": [],
   "source": []
  },
  {
   "cell_type": "code",
   "execution_count": null,
   "metadata": {},
   "outputs": [],
   "source": []
  }
 ],
 "metadata": {
  "kernelspec": {
   "display_name": "Python 3",
   "language": "python",
   "name": "python3"
  },
  "language_info": {
   "codemirror_mode": {
    "name": "ipython",
    "version": 3
   },
   "file_extension": ".py",
   "mimetype": "text/x-python",
   "name": "python",
   "nbconvert_exporter": "python",
   "pygments_lexer": "ipython3",
   "version": "3.6.5"
  }
 },
 "nbformat": 4,
 "nbformat_minor": 2
}
