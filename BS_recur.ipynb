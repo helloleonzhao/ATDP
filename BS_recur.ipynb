{
 "cells": [
  {
   "cell_type": "code",
   "execution_count": 9,
   "metadata": {},
   "outputs": [],
   "source": [
    "# Binary serach with recursive\n",
    "def BS_recur(k, alist):\n",
    "    midpoint = int(len(alist) / 2)\n",
    "    found = False\n",
    "    \n",
    "    if k == alist[midpoint]:\n",
    "        found = True\n",
    "        print('K is the same as the midpoint', midpoint, '=', alist[midpoint])\n",
    "    \n",
    "    while not found and (midpoint > 0):\n",
    "        if k < alist[midpoint]:\n",
    "            print('K is smaller than the midpoint', midpoint, '=', alist[midpoint])\n",
    "            return(BS_recur(k, alist[:midpoint]))\n",
    "        elif k > alist[midpoint] :\n",
    "            print('K is bigger than the midpoint', midpoint, '=', alist[midpoint])\n",
    "            return(BS_recur(k, alist[midpoint:]))\n",
    "            \n",
    "    return(found) "
   ]
  },
  {
   "cell_type": "code",
   "execution_count": 21,
   "metadata": {},
   "outputs": [
    {
     "name": "stdout",
     "output_type": "stream",
     "text": [
      "[-30, -29, -2, 1, 3, 5, 7, 8, 10, 12, 14, 16, 19, 23, 26]\n",
      "K is smaller than the midpoint 7 = 8\n",
      "K is smaller than the midpoint 3 = 1\n",
      "K is smaller than the midpoint 1 = -29\n",
      "False\n"
     ]
    }
   ],
   "source": [
    "alist = [-30, -29,-2,1,3,5,7,8,10,12,14,16,19,23,26]\n",
    "print(alist)\n",
    "print(BS_recur(-33, alist))"
   ]
  },
  {
   "cell_type": "code",
   "execution_count": null,
   "metadata": {},
   "outputs": [],
   "source": []
  }
 ],
 "metadata": {
  "kernelspec": {
   "display_name": "Python 3",
   "language": "python",
   "name": "python3"
  },
  "language_info": {
   "codemirror_mode": {
    "name": "ipython",
    "version": 3
   },
   "file_extension": ".py",
   "mimetype": "text/x-python",
   "name": "python",
   "nbconvert_exporter": "python",
   "pygments_lexer": "ipython3",
   "version": "3.6.5"
  }
 },
 "nbformat": 4,
 "nbformat_minor": 2
}
